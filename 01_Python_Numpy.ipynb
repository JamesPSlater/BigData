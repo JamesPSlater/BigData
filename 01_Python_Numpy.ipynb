{
  "cells": [
    {
      "cell_type": "markdown",
      "metadata": {
        "id": "view-in-github",
        "colab_type": "text"
      },
      "source": [
        "<a href=\"https://colab.research.google.com/github/JamesPSlater/BigData/blob/main/01_Python_Numpy.ipynb\" target=\"_parent\"><img src=\"https://colab.research.google.com/assets/colab-badge.svg\" alt=\"Open In Colab\"/></a>"
      ]
    },
    {
      "cell_type": "markdown",
      "metadata": {
        "id": "ICo46LzT0xNH"
      },
      "source": [
        "The first thing we want to do is import numpy."
      ]
    },
    {
      "cell_type": "code",
      "execution_count": null,
      "metadata": {
        "id": "mGoTMjvn0xNJ"
      },
      "outputs": [],
      "source": [
        "import numpy as np"
      ]
    },
    {
      "cell_type": "markdown",
      "metadata": {
        "id": "phmF5TmU0xNK"
      },
      "source": [
        "Let us first define a Python list containing the ages of 6 people."
      ]
    },
    {
      "cell_type": "code",
      "execution_count": null,
      "metadata": {
        "colab": {
          "base_uri": "https://localhost:8080/"
        },
        "id": "zSyy4_7t0xNK",
        "outputId": "83c82189-b857-4da7-bc58-c445bc82b70f"
      },
      "outputs": [
        {
          "output_type": "stream",
          "name": "stdout",
          "text": [
            "[10, 5, 8, 32, 65, 43]\n"
          ]
        }
      ],
      "source": [
        "ages_list = [10, 5, 8, 32, 65, 43]\n",
        "print(ages_list)"
      ]
    },
    {
      "cell_type": "markdown",
      "metadata": {
        "id": "dNtxEcim0xNL"
      },
      "source": [
        "There are 3 main ways to instantiate a Numpy ndarray object. One of these is to use `np.array(<collection>)`"
      ]
    },
    {
      "cell_type": "code",
      "execution_count": null,
      "metadata": {
        "colab": {
          "base_uri": "https://localhost:8080/"
        },
        "id": "H1bzWInl0xNL",
        "outputId": "61eec506-b15e-4c3a-936f-6dfd6f8b3d63"
      },
      "outputs": [
        {
          "output_type": "stream",
          "name": "stdout",
          "text": [
            "<class 'numpy.ndarray'>\n",
            "[10  5  8 32 65 43]\n"
          ]
        }
      ],
      "source": [
        "ages = np.array(ages_list)\n",
        "print(type(ages))\n",
        "print(ages)"
      ]
    },
    {
      "cell_type": "code",
      "execution_count": null,
      "metadata": {
        "colab": {
          "base_uri": "https://localhost:8080/"
        },
        "id": "Uy-aXPSC0xNL",
        "outputId": "82566514-c170-4454-91cf-9b252e0074f6"
      },
      "outputs": [
        {
          "output_type": "stream",
          "name": "stdout",
          "text": [
            "[10  5  8 32 65 43]\n",
            "Size:\t 6\n",
            "Shape:\t (6,)\n"
          ]
        }
      ],
      "source": [
        "print(ages)\n",
        "print(\"Size:\\t\" , ages.size)\n",
        "print(\"Shape:\\t\", ages.shape)"
      ]
    },
    {
      "cell_type": "code",
      "execution_count": null,
      "metadata": {
        "scrolled": true,
        "colab": {
          "base_uri": "https://localhost:8080/"
        },
        "id": "Fz9ZRM2V0xNM",
        "outputId": "9c553acd-0bb9-49e7-c384-ddd90c35f228"
      },
      "outputs": [
        {
          "output_type": "stream",
          "name": "stdout",
          "text": [
            "[0. 0. 0. 0. 0.]\n"
          ]
        }
      ],
      "source": [
        "zeroArr = np.zeros(5)\n",
        "print(zeroArr)"
      ]
    },
    {
      "cell_type": "markdown",
      "metadata": {
        "id": "NRrF8G7I0xNM"
      },
      "source": [
        "### Multi-dim"
      ]
    },
    {
      "cell_type": "markdown",
      "metadata": {
        "id": "CQej11kO0xNN"
      },
      "source": [
        "Now let us define a new list containing the weights of these 6 people."
      ]
    },
    {
      "cell_type": "code",
      "execution_count": null,
      "metadata": {
        "id": "HX0GlLW20xNN"
      },
      "outputs": [],
      "source": [
        "weight_list = [32, 18, 26, 60, 55, 65]"
      ]
    },
    {
      "cell_type": "markdown",
      "metadata": {
        "id": "qU6fXqu80xNN"
      },
      "source": [
        "Now, we define an ndarray containing all fo this information, and again print the size and shape of the array."
      ]
    },
    {
      "cell_type": "code",
      "execution_count": null,
      "metadata": {
        "colab": {
          "base_uri": "https://localhost:8080/"
        },
        "id": "SyvmL3XG0xNO",
        "outputId": "26805688-14e1-4b03-f85c-ac0ff6b3bdb1"
      },
      "outputs": [
        {
          "output_type": "stream",
          "name": "stdout",
          "text": [
            "People:\t [[10  5  8 32 65 43]\n",
            " [32 18 26 60 55 65]]\n",
            "Size:\t 12\n",
            "Shape:\t (2, 6)\n"
          ]
        }
      ],
      "source": [
        "people = np.array([ages_list, weight_list])\n",
        "\n",
        "print(\"People:\\t\" , people)\n",
        "print(\"Size:\\t\" , people.size)\n",
        "print(\"Shape:\\t\", people.shape)"
      ]
    },
    {
      "cell_type": "code",
      "execution_count": null,
      "metadata": {
        "colab": {
          "base_uri": "https://localhost:8080/"
        },
        "id": "LjONwGmi0xNO",
        "outputId": "b010769c-f5fe-445f-c63a-7c249c0a0115"
      },
      "outputs": [
        {
          "output_type": "stream",
          "name": "stdout",
          "text": [
            "People:\t [[10]\n",
            " [ 5]\n",
            " [ 8]\n",
            " [32]\n",
            " [65]\n",
            " [43]\n",
            " [32]\n",
            " [18]\n",
            " [26]\n",
            " [60]\n",
            " [55]\n",
            " [65]]\n",
            "Size:\t 12\n",
            "Shape:\t (12, 1)\n"
          ]
        }
      ],
      "source": [
        "people = people.reshape(12,1)\n",
        "print(\"People:\\t\" , people)\n",
        "print(\"Size:\\t\" , people.size)\n",
        "print(\"Shape:\\t\", people.shape)"
      ]
    },
    {
      "cell_type": "markdown",
      "metadata": {
        "id": "Lh3AdXGZ0xNP"
      },
      "source": [
        "###### Note: The new shape must be the same \"size\" as the old shape"
      ]
    },
    {
      "cell_type": "markdown",
      "metadata": {
        "id": "HR1jaTNg0xNP"
      },
      "source": [
        "### Exercise\n",
        "\n",
        "* Generate a 1D numpy array with the values [7, 9, 65, 33, 85, 99]\n",
        "\n",
        "* Generate a matrix (2D numpy array) of the values:\n",
        "\n",
        "\\begin{align}\n",
        "  \\mathbf{A} =\n",
        "  \\begin{pmatrix}\n",
        "    1 & 2 & 4 \\\\\n",
        "    2 & 3 & 0 \\\\\n",
        "    0 & 5 & 1\n",
        "  \\end{pmatrix}\n",
        "\\end{align}\n",
        "\n",
        "* Change the dimensions of this array to another permitted shape"
      ]
    },
    {
      "cell_type": "code",
      "source": [
        "ex_list = [7, 9, 65, 33, 85, 99]\n",
        "array_list = np.array([ex_list])\n",
        "arranged = array_list.reshape (3,2)\n",
        "print(arranged)"
      ],
      "metadata": {
        "colab": {
          "base_uri": "https://localhost:8080/"
        },
        "id": "3vb1X_vm1zVh",
        "outputId": "d1683326-5fc0-4281-f529-cc15f41832c5"
      },
      "execution_count": null,
      "outputs": [
        {
          "output_type": "stream",
          "name": "stdout",
          "text": [
            "[[ 7  9]\n",
            " [65 33]\n",
            " [85 99]]\n"
          ]
        }
      ]
    },
    {
      "cell_type": "markdown",
      "metadata": {
        "id": "s3wP6Ib10xNP"
      },
      "source": [
        "## Array Generation"
      ]
    },
    {
      "cell_type": "markdown",
      "metadata": {
        "id": "A69EWsp90xNP"
      },
      "source": [
        "Instead of defining an array manually, we can ask numpy to do it for us.\n",
        "\n",
        "The `np.arange()` method creates a range of numbers with user defined steps between each."
      ]
    },
    {
      "cell_type": "code",
      "execution_count": null,
      "metadata": {
        "colab": {
          "base_uri": "https://localhost:8080/"
        },
        "id": "sLK1Fi0P0xNP",
        "outputId": "e57f42e2-dd72-4b2c-d795-ce348ba884b1"
      },
      "outputs": [
        {
          "output_type": "execute_result",
          "data": {
            "text/plain": [
              "array([ 0,  5, 10, 15, 20, 25, 30, 35, 40, 45, 50])"
            ]
          },
          "metadata": {},
          "execution_count": 16
        }
      ],
      "source": [
        "five_times_table = np.arange(0, 55, 5)\n",
        "five_times_table"
      ]
    },
    {
      "cell_type": "markdown",
      "metadata": {
        "id": "Ap9ZoDbp0xNQ"
      },
      "source": [
        "The `np.linspace()` method will produce a range of evenly spaced values, starting, ending, and taking as many steps as you specify."
      ]
    },
    {
      "cell_type": "code",
      "execution_count": null,
      "metadata": {
        "colab": {
          "base_uri": "https://localhost:8080/"
        },
        "id": "UQxraKHE0xNQ",
        "outputId": "fb4fb6e9-59a6-43e7-8424-4c084a53b48f"
      },
      "outputs": [
        {
          "output_type": "stream",
          "name": "stdout",
          "text": [
            "[ 0.  5. 10. 15. 20. 25. 30. 35. 40. 45. 50.]\n"
          ]
        }
      ],
      "source": [
        "five_spaced = np.linspace(0,50,11)\n",
        "print(five_spaced)"
      ]
    },
    {
      "cell_type": "markdown",
      "metadata": {
        "id": "Gr-8TAuE0xNQ"
      },
      "source": [
        "The `.repeat()` method will repeat an object you pas a specified number of times."
      ]
    },
    {
      "cell_type": "code",
      "execution_count": null,
      "metadata": {
        "colab": {
          "base_uri": "https://localhost:8080/"
        },
        "id": "YyaEeOAp0xNQ",
        "outputId": "a6c98a91-9b5b-4001-dd3c-c0dc36c5e041"
      },
      "outputs": [
        {
          "output_type": "stream",
          "name": "stdout",
          "text": [
            "[2 2 2 2 2 2 2 2 2 2]\n"
          ]
        }
      ],
      "source": [
        "twoArr = np.repeat(2, 10)\n",
        "print(twoArr)"
      ]
    },
    {
      "cell_type": "markdown",
      "metadata": {
        "id": "viIZUMft0xNQ"
      },
      "source": [
        "The `np.eye()` functions will create an identity matrix/array for us."
      ]
    },
    {
      "cell_type": "code",
      "execution_count": null,
      "metadata": {
        "colab": {
          "base_uri": "https://localhost:8080/"
        },
        "id": "RES8Rmit0xNQ",
        "outputId": "845a36ca-3de7-45df-d970-05d124435ddb"
      },
      "outputs": [
        {
          "output_type": "stream",
          "name": "stdout",
          "text": [
            "[[1. 0. 0. 0. 0. 0.]\n",
            " [0. 1. 0. 0. 0. 0.]\n",
            " [0. 0. 1. 0. 0. 0.]\n",
            " [0. 0. 0. 1. 0. 0.]\n",
            " [0. 0. 0. 0. 1. 0.]\n",
            " [0. 0. 0. 0. 0. 1.]]\n"
          ]
        }
      ],
      "source": [
        "identity_matrix = np.eye(6)\n",
        "print(identity_matrix)"
      ]
    },
    {
      "cell_type": "markdown",
      "metadata": {
        "id": "WUM_G7Em0xNR"
      },
      "source": [
        "# Operations"
      ]
    },
    {
      "cell_type": "markdown",
      "metadata": {
        "id": "mjdR1HoJ0xNR"
      },
      "source": [
        "There are many, many operations which we can perform on arrays. Below, we demonstrate a few."
      ]
    },
    {
      "cell_type": "markdown",
      "metadata": {
        "id": "XgxI5DIJ0xNR"
      },
      "source": [
        "What is happening in each line?"
      ]
    },
    {
      "cell_type": "code",
      "execution_count": null,
      "metadata": {
        "id": "UlJN8TbI0xNR"
      },
      "outputs": [],
      "source": [
        "five_times_table"
      ]
    },
    {
      "cell_type": "code",
      "execution_count": null,
      "metadata": {
        "scrolled": true,
        "id": "QR4hk9xx0xNR"
      },
      "outputs": [],
      "source": [
        "print(\"1:\", 2 * five_times_table)\n",
        "print(\"2:\", 10 + five_times_table)\n",
        "print(\"3:\", five_times_table - 1)\n",
        "print(\"4:\", five_times_table/5)\n",
        "print(\"5:\", five_times_table **2)\n",
        "print(\"6:\", five_times_table < 20)"
      ]
    },
    {
      "cell_type": "markdown",
      "metadata": {
        "id": "T7ar3xfN0xNR"
      },
      "source": [
        "### Speed Test"
      ]
    },
    {
      "cell_type": "markdown",
      "metadata": {
        "id": "V3REY7F00xNR"
      },
      "source": [
        "If we compare the speed at which we can do these operations compared to core python, we will notice a substantial difference."
      ]
    },
    {
      "cell_type": "code",
      "execution_count": null,
      "metadata": {
        "scrolled": true,
        "id": "fV1gAWC90xNR"
      },
      "outputs": [],
      "source": [
        "fives_list = list(range(0,5001,5))\n",
        "fives_list"
      ]
    },
    {
      "cell_type": "code",
      "execution_count": null,
      "metadata": {
        "id": "Jac4yIDt0xNS"
      },
      "outputs": [],
      "source": [
        "five_times_table_lge = np.arange(0,5001,5)\n",
        "five_times_table_lge"
      ]
    },
    {
      "cell_type": "code",
      "execution_count": null,
      "metadata": {
        "id": "n9TL1e8Z0xNS"
      },
      "outputs": [],
      "source": [
        "%timeit five_times_table_lge + 5"
      ]
    },
    {
      "cell_type": "code",
      "execution_count": null,
      "metadata": {
        "id": "DozIEJ8I0xNS"
      },
      "outputs": [],
      "source": [
        "%timeit [e + 5 for e in fives_list]"
      ]
    },
    {
      "cell_type": "markdown",
      "metadata": {
        "id": "PMg1FL9G0xNS"
      },
      "source": [
        "Boolean string operations can also be performed on ndarrays."
      ]
    },
    {
      "cell_type": "code",
      "execution_count": null,
      "metadata": {
        "id": "Ud7PbZzO0xNS"
      },
      "outputs": [],
      "source": [
        "words = np.array([\"ten\", \"nine\", \"eight\", \"seven\", \"six\"])\n",
        "\n",
        "print(np.isin(words, 'e'))\n",
        "\n",
        "print(\"e\" in words)\n",
        "[\"e\" in word for word in words]"
      ]
    },
    {
      "cell_type": "markdown",
      "metadata": {
        "id": "4EkkPbeI0xNS"
      },
      "source": [
        "# Transpose"
      ]
    },
    {
      "cell_type": "code",
      "execution_count": null,
      "metadata": {
        "id": "t_zk3Gix0xNS"
      },
      "outputs": [],
      "source": [
        "people.shape = (2, 6)\n",
        "print(people, \"\\n\")\n",
        "print(people.T)"
      ]
    },
    {
      "cell_type": "markdown",
      "metadata": {
        "id": "9D1PwRmh0xNS"
      },
      "source": [
        "# Data Types"
      ]
    },
    {
      "cell_type": "markdown",
      "metadata": {
        "id": "NTHeJtz50xNT"
      },
      "source": [
        "As previously mentioned, ndarrays can only have one data type. If we want to obtain or change this, we use the `.dtype` attribute."
      ]
    },
    {
      "cell_type": "code",
      "execution_count": null,
      "metadata": {
        "colab": {
          "base_uri": "https://localhost:8080/"
        },
        "id": "iR_Tzt2a0xNT",
        "outputId": "66fe5fb7-cfd7-4a34-f7ff-c2ccec9e0d61"
      },
      "outputs": [
        {
          "output_type": "execute_result",
          "data": {
            "text/plain": [
              "dtype('int64')"
            ]
          },
          "metadata": {},
          "execution_count": 56
        }
      ],
      "source": [
        "people.dtype"
      ]
    },
    {
      "cell_type": "markdown",
      "metadata": {
        "id": "3EWWOhok0xNT"
      },
      "source": [
        "What is the data type of the below ndarray?"
      ]
    },
    {
      "cell_type": "code",
      "execution_count": null,
      "metadata": {
        "colab": {
          "base_uri": "https://localhost:8080/"
        },
        "id": "Rg1_eKw80xNT",
        "outputId": "077b6486-f591-4c90-8857-5a07dc48bf70"
      },
      "outputs": [
        {
          "output_type": "execute_result",
          "data": {
            "text/plain": [
              "array(['10', '5', '8', '32', '65', '43'], dtype='<U21')"
            ]
          },
          "metadata": {},
          "execution_count": 57
        }
      ],
      "source": [
        "ages_with_strings = np.array([10, 5, 8, '32', '65', '43'])\n",
        "ages_with_strings"
      ]
    },
    {
      "cell_type": "markdown",
      "metadata": {
        "id": "2ezIk4cI0xNT"
      },
      "source": [
        "What is the dtype of this array?"
      ]
    },
    {
      "cell_type": "code",
      "execution_count": null,
      "metadata": {
        "colab": {
          "base_uri": "https://localhost:8080/"
        },
        "id": "iQHMtJ6J0xNT",
        "outputId": "ba51aa97-8203-453f-c0d9-580bfecff09b"
      },
      "outputs": [
        {
          "output_type": "execute_result",
          "data": {
            "text/plain": [
              "array([10,  5,  8, 32, 65, 43], dtype=int32)"
            ]
          },
          "metadata": {},
          "execution_count": 58
        }
      ],
      "source": [
        "ages_with_strings = np.array([10, 5, 8, '32', '65', '43'], dtype='int32')\n",
        "ages_with_strings"
      ]
    },
    {
      "cell_type": "markdown",
      "metadata": {
        "id": "lFek36cu0xNT"
      },
      "source": [
        "What do you think has happened here?"
      ]
    },
    {
      "cell_type": "code",
      "execution_count": null,
      "metadata": {
        "colab": {
          "base_uri": "https://localhost:8080/"
        },
        "id": "eCLdsoqE0xNT",
        "outputId": "0ebb3c73-9592-42d9-d5bc-15a0cb4b816a"
      },
      "outputs": [
        {
          "output_type": "stream",
          "name": "stdout",
          "text": [
            "['10' '5' '8' '32' '65' '43']\n"
          ]
        }
      ],
      "source": [
        "ages_with_strings = np.array([10, 5, 8, '32', '65', '43'])\n",
        "print(ages_with_strings)"
      ]
    },
    {
      "cell_type": "code",
      "execution_count": null,
      "metadata": {
        "colab": {
          "base_uri": "https://localhost:8080/"
        },
        "id": "XozpPvkQ0xNU",
        "outputId": "34bdff7a-efdd-4560-ee3c-b28a1356002b"
      },
      "outputs": [
        {
          "output_type": "stream",
          "name": "stdout",
          "text": [
            "[49 48  0  0  0  0  0  0  0  0  0  0  0  0  0  0  0  0  0  0  0 53  0  0\n",
            "  0  0  0  0  0  0  0  0  0  0  0  0  0  0  0  0  0  0 56  0  0  0  0  0\n",
            "  0  0  0  0  0  0  0  0  0  0  0  0  0  0  0 51 50  0  0  0  0  0  0  0\n",
            "  0  0  0  0  0  0  0  0  0  0  0  0 54 53  0  0  0  0  0  0  0  0  0  0\n",
            "  0  0  0  0  0  0  0  0  0 52 51  0  0  0  0  0  0  0  0  0  0  0  0  0\n",
            "  0  0  0  0  0  0]\n"
          ]
        }
      ],
      "source": [
        "ages_with_strings.dtype = 'int32'\n",
        "print(ages_with_strings)"
      ]
    },
    {
      "cell_type": "code",
      "execution_count": null,
      "metadata": {
        "colab": {
          "base_uri": "https://localhost:8080/"
        },
        "id": "l4T-Xkzm0xNU",
        "outputId": "ade72a07-d27e-4ab8-dc22-3fd4a2d359c0"
      },
      "outputs": [
        {
          "output_type": "execute_result",
          "data": {
            "text/plain": [
              "126"
            ]
          },
          "metadata": {},
          "execution_count": 61
        }
      ],
      "source": [
        "ages_with_strings.size"
      ]
    },
    {
      "cell_type": "code",
      "execution_count": null,
      "metadata": {
        "colab": {
          "base_uri": "https://localhost:8080/"
        },
        "id": "lswL3aIg0xNU",
        "outputId": "a6aa6dd7-9781-4743-d961-9dcce0a53051"
      },
      "outputs": [
        {
          "output_type": "execute_result",
          "data": {
            "text/plain": [
              "6.0"
            ]
          },
          "metadata": {},
          "execution_count": 62
        }
      ],
      "source": [
        "ages_with_strings.size/21"
      ]
    },
    {
      "cell_type": "code",
      "execution_count": null,
      "metadata": {
        "colab": {
          "base_uri": "https://localhost:8080/"
        },
        "id": "Q1-OaV9U0xNU",
        "outputId": "cf41d471-5e17-4832-9d44-48c09ed091eb"
      },
      "outputs": [
        {
          "output_type": "execute_result",
          "data": {
            "text/plain": [
              "6"
            ]
          },
          "metadata": {},
          "execution_count": 63
        }
      ],
      "source": [
        "np.array([10, 5, 8, '32', '65', '43']).size"
      ]
    },
    {
      "cell_type": "markdown",
      "metadata": {
        "id": "0g0Np9KZ0xNU"
      },
      "source": [
        "The correct way to have changed the data type of the ndarray would have been to use the `.astype()` method, demonstrated below."
      ]
    },
    {
      "cell_type": "code",
      "execution_count": null,
      "metadata": {
        "colab": {
          "base_uri": "https://localhost:8080/"
        },
        "id": "TcqiTrLT0xNU",
        "outputId": "7a27ad58-9e6b-4552-bae4-b99af0325c61"
      },
      "outputs": [
        {
          "output_type": "stream",
          "name": "stdout",
          "text": [
            "['10' '5' '8' '32' '65' '43']\n",
            "[10  5  8 32 65 43]\n"
          ]
        }
      ],
      "source": [
        "ages_with_strings = np.array([10, 5, 8, '32', '65', '43'])\n",
        "print(ages_with_strings)\n",
        "print(ages_with_strings.astype('int32'))"
      ]
    },
    {
      "cell_type": "markdown",
      "metadata": {
        "id": "fHkv23fW0xNU"
      },
      "source": [
        "### Exercise\n",
        "\n",
        "* #### Create an array of string numbers, but use dtype to make it an array of floats.\n",
        "* #### Transpose the matrix, printing the new size and shape.\n",
        "* #### Use the .astype() method to convert the array to boolean."
      ]
    },
    {
      "cell_type": "code",
      "source": [
        "string_array = np.array(['6', '8', '66', '94', '58', '72'])\n",
        "string_array.dtype = 'float'\n",
        "string_array.shape = (3, 2)\n",
        "print(string_array)\n",
        "print(string_array.astype('bool'))"
      ],
      "metadata": {
        "colab": {
          "base_uri": "https://localhost:8080/"
        },
        "id": "FJf8__EZ6Q62",
        "outputId": "1d5ab329-a345-47d8-d9b7-f3d1d5af1c9c"
      },
      "execution_count": null,
      "outputs": [
        {
          "output_type": "stream",
          "name": "stdout",
          "text": [
            "[[2.66795449e-322 2.76676762e-322]\n",
            " [1.14587773e-312 1.10343781e-312]\n",
            " [1.18831764e-312 1.06099790e-312]]\n",
            "[[ True  True]\n",
            " [ True  True]\n",
            " [ True  True]]\n"
          ]
        }
      ]
    },
    {
      "cell_type": "markdown",
      "metadata": {
        "id": "qmlxZIpE0xNU"
      },
      "source": [
        "## Array Slicing Operations"
      ]
    },
    {
      "cell_type": "markdown",
      "metadata": {
        "id": "qcgw580J0xNU"
      },
      "source": [
        "As before, we can use square brackets and indices to access individual values, and the colon operator to slice the array."
      ]
    },
    {
      "cell_type": "code",
      "execution_count": null,
      "metadata": {
        "colab": {
          "base_uri": "https://localhost:8080/"
        },
        "id": "kXFcJAz20xNU",
        "outputId": "ec08e269-e28b-42bf-f106-3a0c2c95093c"
      },
      "outputs": [
        {
          "output_type": "execute_result",
          "data": {
            "text/plain": [
              "array([ 0,  5, 10, 15, 20, 25, 30, 35, 40, 45, 50])"
            ]
          },
          "metadata": {},
          "execution_count": 66
        }
      ],
      "source": [
        "five_times_table"
      ]
    },
    {
      "cell_type": "code",
      "execution_count": null,
      "metadata": {
        "colab": {
          "base_uri": "https://localhost:8080/"
        },
        "id": "tJvNaGXC0xNV",
        "outputId": "35f35a36-e3f1-435d-a644-e1486eb253cd"
      },
      "outputs": [
        {
          "output_type": "execute_result",
          "data": {
            "text/plain": [
              "0"
            ]
          },
          "metadata": {},
          "execution_count": 67
        }
      ],
      "source": [
        "five_times_table[0]"
      ]
    },
    {
      "cell_type": "code",
      "execution_count": null,
      "metadata": {
        "scrolled": true,
        "colab": {
          "base_uri": "https://localhost:8080/"
        },
        "id": "IwUaTA5r0xNV",
        "outputId": "ed8763d0-e9ea-4992-9c80-de74df5cd335"
      },
      "outputs": [
        {
          "output_type": "execute_result",
          "data": {
            "text/plain": [
              "50"
            ]
          },
          "metadata": {},
          "execution_count": 68
        }
      ],
      "source": [
        "five_times_table[-1]"
      ]
    },
    {
      "cell_type": "code",
      "execution_count": null,
      "metadata": {
        "colab": {
          "base_uri": "https://localhost:8080/"
        },
        "id": "XIpHG2nF0xNV",
        "outputId": "2d19c843-6282-4325-e84d-ec460cbf9468"
      },
      "outputs": [
        {
          "output_type": "execute_result",
          "data": {
            "text/plain": [
              "array([ 0,  5, 10, 15])"
            ]
          },
          "metadata": {},
          "execution_count": 69
        }
      ],
      "source": [
        "five_times_table[:4]"
      ]
    },
    {
      "cell_type": "code",
      "execution_count": null,
      "metadata": {
        "colab": {
          "base_uri": "https://localhost:8080/"
        },
        "id": "EbjJvTQn0xNV",
        "outputId": "b516b611-c6a5-463d-ab72-6009a5a446fe"
      },
      "outputs": [
        {
          "output_type": "execute_result",
          "data": {
            "text/plain": [
              "array([20, 25, 30, 35, 40, 45, 50])"
            ]
          },
          "metadata": {},
          "execution_count": 70
        }
      ],
      "source": [
        "five_times_table[4:]"
      ]
    },
    {
      "cell_type": "markdown",
      "metadata": {
        "id": "-EzbHYus0xNV"
      },
      "source": [
        "We can also slice an n-dim ndarray., specifying the slice operation accross each axis."
      ]
    },
    {
      "cell_type": "code",
      "execution_count": null,
      "metadata": {
        "colab": {
          "base_uri": "https://localhost:8080/"
        },
        "id": "q8sfLONy0xNV",
        "outputId": "b92e9905-c8be-4386-e2d6-c63d9468f01c"
      },
      "outputs": [
        {
          "output_type": "stream",
          "name": "stdout",
          "text": [
            "[[10  5  8 32 65 43]\n",
            " [32 18 26 60 55 65]]\n"
          ]
        },
        {
          "output_type": "execute_result",
          "data": {
            "text/plain": [
              "array([[10,  5,  8],\n",
              "       [32, 18, 26]])"
            ]
          },
          "metadata": {},
          "execution_count": 71
        }
      ],
      "source": [
        "print(people)\n",
        "people[:3, :3]"
      ]
    },
    {
      "cell_type": "markdown",
      "metadata": {
        "id": "HXGyUrw80xNV"
      },
      "source": [
        "### Exercise\n",
        "\n",
        "* Create a numpy array with 50 zeros\n",
        "* Create a np array of 2 repeated 20 times\n",
        "* Create a numpy array from 0 to 2 $\\pi$ in steps of 0.1\n",
        "\n",
        "For one of the arrays generated:\n",
        "* Get the first five values\n",
        "* Get the last 3 values\n",
        "* Get the 4th value to the 7th value"
      ]
    },
    {
      "cell_type": "code",
      "source": [
        "zeros = np.repeat(0, 50)\n",
        "twos = np.repeat(2, 20)\n",
        "test = np.arange(0, 2, 0.1)\n",
        "test[:5]\n",
        "test[-3:]\n",
        "test[3:7]\n"
      ],
      "metadata": {
        "colab": {
          "base_uri": "https://localhost:8080/"
        },
        "id": "ykDAGqap8CZp",
        "outputId": "b6cf2ca2-9f8a-4393-f368-0ddfb8ac6c27"
      },
      "execution_count": null,
      "outputs": [
        {
          "output_type": "execute_result",
          "data": {
            "text/plain": [
              "array([0.3, 0.4, 0.5, 0.6])"
            ]
          },
          "metadata": {},
          "execution_count": 86
        }
      ]
    },
    {
      "cell_type": "markdown",
      "metadata": {
        "id": "gIMdMxdc0xNV"
      },
      "source": [
        "We can reverse an array by using `.flip()` or by using the `::` operator."
      ]
    },
    {
      "cell_type": "code",
      "execution_count": null,
      "metadata": {
        "colab": {
          "base_uri": "https://localhost:8080/"
        },
        "id": "RM_XQGXM0xNV",
        "outputId": "2c903d6e-06ec-4832-f42f-4209b41f886c"
      },
      "outputs": [
        {
          "output_type": "execute_result",
          "data": {
            "text/plain": [
              "array([50, 45, 40, 35, 30, 25, 20, 15, 10,  5,  0])"
            ]
          },
          "metadata": {},
          "execution_count": 73
        }
      ],
      "source": [
        "reverse_five_times_table = np.flip(five_times_table)\n",
        "reverse_five_times_table"
      ]
    },
    {
      "cell_type": "code",
      "execution_count": null,
      "metadata": {
        "colab": {
          "base_uri": "https://localhost:8080/"
        },
        "id": "5cjU6-K-0xNV",
        "outputId": "34899412-0026-4c2d-850a-fbfbb4dfee2a"
      },
      "outputs": [
        {
          "output_type": "stream",
          "name": "stdout",
          "text": [
            "[50 45 40 35 30 25 20 15 10  5  0]\n"
          ]
        },
        {
          "output_type": "execute_result",
          "data": {
            "text/plain": [
              "array([ 0,  5, 10, 15, 20, 25, 30, 35, 40, 45, 50])"
            ]
          },
          "metadata": {},
          "execution_count": 74
        }
      ],
      "source": [
        "reverse_five_times_table = five_times_table[-1::-1]\n",
        "print(reverse_five_times_table)\n",
        "five_times_table"
      ]
    },
    {
      "cell_type": "markdown",
      "metadata": {
        "id": "vxwnOgHP0xNW"
      },
      "source": [
        "We can also use the `::` operator to select steps of the original array."
      ]
    },
    {
      "cell_type": "code",
      "execution_count": null,
      "metadata": {
        "colab": {
          "base_uri": "https://localhost:8080/"
        },
        "id": "srdqBMA10xNW",
        "outputId": "84b781c7-9c5e-42b7-9115-98917e4293b8"
      },
      "outputs": [
        {
          "output_type": "execute_result",
          "data": {
            "text/plain": [
              "array([ 0, 15, 30, 45])"
            ]
          },
          "metadata": {},
          "execution_count": 75
        }
      ],
      "source": [
        "five_times_table[0::3] #Every 3rd element starting from 0"
      ]
    },
    {
      "cell_type": "markdown",
      "metadata": {
        "id": "2kdn7mwr0xNW"
      },
      "source": [
        "### Exercise\n",
        "Take one of the arrays you defined and\n",
        "* #### Reverse it\n",
        "* #### Only keep every 4th element.\n",
        "* #### Get every 2nd element, starting from the last and moving backwards."
      ]
    },
    {
      "cell_type": "markdown",
      "metadata": {
        "id": "qHioQVUI0xNW"
      },
      "source": [
        "# Stats"
      ]
    },
    {
      "cell_type": "code",
      "execution_count": null,
      "metadata": {
        "colab": {
          "base_uri": "https://localhost:8080/"
        },
        "id": "phUiJSZw0xNW",
        "outputId": "d8522409-1044-4694-abf6-a0038e1e0439"
      },
      "outputs": [
        {
          "output_type": "execute_result",
          "data": {
            "text/plain": [
              "array([1.65, 5.99])"
            ]
          },
          "metadata": {},
          "execution_count": 87
        }
      ],
      "source": [
        "np.array([1.65432, 5.98765]).round(2)"
      ]
    },
    {
      "cell_type": "code",
      "execution_count": null,
      "metadata": {
        "id": "tjhWUXCO0xNW"
      },
      "outputs": [],
      "source": [
        "nums = np.arange(0, 4, 0.2555)"
      ]
    },
    {
      "cell_type": "markdown",
      "metadata": {
        "id": "mVKX9MY20xNW"
      },
      "source": [
        "### Exercise\n",
        "\n",
        "* Compute min, max, sum, mean, median, variance, and standard deviation of the above array, all to to 2 decimal places."
      ]
    },
    {
      "cell_type": "code",
      "execution_count": null,
      "metadata": {
        "colab": {
          "base_uri": "https://localhost:8080/"
        },
        "id": "AH1zQIOh0xNW",
        "outputId": "a76876ad-4b59-4b79-ce41-f781d1b6cb67"
      },
      "outputs": [
        {
          "output_type": "stream",
          "name": "stdout",
          "text": [
            "min =  0.0\n",
            "max =  3.83\n",
            "sum =  30.66\n",
            "mean =  1.92\n",
            "median =  1.92\n",
            "var =  1.39\n",
            "std =  1.18\n"
          ]
        }
      ],
      "source": [
        "print(\"min = \", np.min(nums).round(2))\n",
        "print(\"max = \", np.max(nums).round(2))\n",
        "print(\"sum = \", np.sum(nums).round(2))\n",
        "print(\"mean = \", np.mean(nums).round(2))\n",
        "print(\"median = \", np.median(nums).round(2))\n",
        "print(\"var = \", np.var(nums).round(2))\n",
        "print(\"std = \", np.std(nums).round(2))"
      ]
    },
    {
      "cell_type": "markdown",
      "metadata": {
        "id": "HChK15F30xNW"
      },
      "source": [
        "## Random"
      ]
    },
    {
      "cell_type": "markdown",
      "metadata": {
        "id": "698JXVaJ0xNW"
      },
      "source": [
        "With `np.random`, we can generate a number of types of dataset, and create training data.\n",
        "\n",
        "The below code simulates a fair coin toss."
      ]
    },
    {
      "cell_type": "code",
      "execution_count": null,
      "metadata": {
        "colab": {
          "base_uri": "https://localhost:8080/"
        },
        "id": "ckAU6cEm0xNW",
        "outputId": "07719f37-84fd-4220-dfae-232ce1fd5a67"
      },
      "outputs": [
        {
          "output_type": "execute_result",
          "data": {
            "text/plain": [
              "array([0, 1, 0, 0, 0, 0, 0, 0, 1, 0])"
            ]
          },
          "metadata": {},
          "execution_count": 90
        }
      ],
      "source": [
        "flip = np.random.choice([0,1], 10)\n",
        "flip"
      ]
    },
    {
      "cell_type": "code",
      "execution_count": null,
      "metadata": {
        "id": "kwWgxTtA0xNX"
      },
      "outputs": [],
      "source": [
        "np.random.rand(10,20,9)"
      ]
    },
    {
      "cell_type": "markdown",
      "metadata": {
        "id": "Wp0H0b9e0xNX"
      },
      "source": [
        "We can produce 1000 datapoints of a normally distributed data set by using `np.random.normal()`"
      ]
    },
    {
      "cell_type": "code",
      "execution_count": null,
      "metadata": {
        "id": "yxAD45ba0xNX"
      },
      "outputs": [],
      "source": [
        "mu, sigma = 0, 0.1 # mean and standard deviation\n",
        "s = np.random.normal(mu, sigma, 1000)"
      ]
    },
    {
      "cell_type": "markdown",
      "metadata": {
        "id": "O92CBg8s0xNX"
      },
      "source": [
        "### Exercise\n",
        "* Simulate a six-sided dice using numpy.random.choice(), generate a list of values you would obtain from 10 throws.\n",
        "* Simulate a two-sided coin toss that is NOT fair: it is twice as likely to have head than tails.\n"
      ]
    },
    {
      "cell_type": "code",
      "execution_count": null,
      "metadata": {
        "id": "c-a86X6_0xNX"
      },
      "outputs": [],
      "source": [
        ""
      ]
    }
  ],
  "metadata": {
    "kernelspec": {
      "display_name": "Python 3",
      "language": "python",
      "name": "python3"
    },
    "language_info": {
      "codemirror_mode": {
        "name": "ipython",
        "version": 3
      },
      "file_extension": ".py",
      "mimetype": "text/x-python",
      "name": "python",
      "nbconvert_exporter": "python",
      "pygments_lexer": "ipython3",
      "version": "3.7.4"
    },
    "colab": {
      "name": "01_Python Numpy.ipynb",
      "provenance": [],
      "include_colab_link": true
    }
  },
  "nbformat": 4,
  "nbformat_minor": 0
}