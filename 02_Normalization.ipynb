{
  "nbformat": 4,
  "nbformat_minor": 0,
  "metadata": {
    "colab": {
      "name": "02 Normalization.ipynb",
      "provenance": [],
      "include_colab_link": true
    },
    "kernelspec": {
      "name": "python3",
      "display_name": "Python 3"
    },
    "language_info": {
      "name": "python"
    }
  },
  "cells": [
    {
      "cell_type": "markdown",
      "metadata": {
        "id": "view-in-github",
        "colab_type": "text"
      },
      "source": [
        "<a href=\"https://colab.research.google.com/github/JamesPSlater/BigData/blob/main/02_Normalization.ipynb\" target=\"_parent\"><img src=\"https://colab.research.google.com/assets/colab-badge.svg\" alt=\"Open In Colab\"/></a>"
      ]
    },
    {
      "cell_type": "code",
      "execution_count": null,
      "metadata": {
        "id": "j4KuZNqqQine"
      },
      "outputs": [],
      "source": [
        "import pandas as pd\n",
        "# PANEL DATAFRAMES-> library that allows us to manipulate data\n",
        "# read from multiple data sources\n",
        "# converts into a rectangular data structure-> tabular-> rows and columns\n",
        "# DataFrame "
      ]
    },
    {
      "cell_type": "code",
      "source": [
        "data = pd.read_csv('https://raw.githubusercontent.com/a-forty-two/cylons/master/data.csv')"
      ],
      "metadata": {
        "id": "a8eByG8VRhjC"
      },
      "execution_count": null,
      "outputs": []
    },
    {
      "cell_type": "code",
      "source": [
        "data.head()"
      ],
      "metadata": {
        "id": "x25Sfo2JRthR"
      },
      "execution_count": null,
      "outputs": []
    },
    {
      "cell_type": "code",
      "source": [
        "data.tail()"
      ],
      "metadata": {
        "id": "JJbqdcQSRxZ4"
      },
      "execution_count": null,
      "outputs": []
    },
    {
      "cell_type": "code",
      "source": [
        "data.head(3)"
      ],
      "metadata": {
        "id": "imfFJWiDR2dr"
      },
      "execution_count": null,
      "outputs": []
    },
    {
      "cell_type": "code",
      "source": [
        "data.tail(1)"
      ],
      "metadata": {
        "id": "d0duw0raR6IL"
      },
      "execution_count": null,
      "outputs": []
    },
    {
      "cell_type": "code",
      "source": [
        "data.describe()"
      ],
      "metadata": {
        "id": "uX4EadSqR7dj"
      },
      "execution_count": null,
      "outputs": []
    },
    {
      "cell_type": "code",
      "source": [
        "data.columns"
      ],
      "metadata": {
        "id": "8X02-qmESDDk"
      },
      "execution_count": null,
      "outputs": []
    },
    {
      "cell_type": "code",
      "source": [
        "# SLICE and DICE-> \n",
        "# LOCATION by NAME: loc\n",
        "# OR\n",
        "# INDEX of LOCATION: iloc"
      ],
      "metadata": {
        "id": "i73DDWXjSM4-"
      },
      "execution_count": null,
      "outputs": []
    },
    {
      "cell_type": "code",
      "source": [
        "data.head()"
      ],
      "metadata": {
        "id": "UN5VDY9nZkF7"
      },
      "execution_count": null,
      "outputs": []
    },
    {
      "cell_type": "code",
      "source": [
        "stats = data.describe().T\n",
        "stats"
      ],
      "metadata": {
        "id": "mDP25uF8X-hb"
      },
      "execution_count": null,
      "outputs": []
    },
    {
      "cell_type": "code",
      "source": [
        "#1. read -> data = pd.read_csv\n",
        "#2. mu and sigma -> data.describe()\n",
        "#3. ndata = (data-mu) / sigma"
      ],
      "metadata": {
        "id": "m-YA11y2Zwx4"
      },
      "execution_count": null,
      "outputs": []
    },
    {
      "cell_type": "code",
      "source": [
        "xdata = pd.read_csv('data.csv')\n",
        "mu,sigma = xdata.describe().T['mean'] , xdata.describe().T['std']\n",
        "norm_xdata = (xdata - mu)/sigma "
      ],
      "metadata": {
        "id": "HwpQrll4aDnV"
      },
      "execution_count": null,
      "outputs": []
    },
    {
      "cell_type": "code",
      "source": [
        "mu = stats['mean']\n",
        "sigma = stats['std']"
      ],
      "metadata": {
        "id": "hRniBCE6X-eh"
      },
      "execution_count": null,
      "outputs": []
    },
    {
      "cell_type": "code",
      "source": [
        "normdata = (data - mu)/sigma"
      ],
      "metadata": {
        "id": "J1k8ZG_DX-cc"
      },
      "execution_count": null,
      "outputs": []
    },
    {
      "cell_type": "code",
      "source": [
        "normdata.head()"
      ],
      "metadata": {
        "id": "kpjofAv8X-Yf"
      },
      "execution_count": null,
      "outputs": []
    },
    {
      "cell_type": "code",
      "source": [
        ""
      ],
      "metadata": {
        "id": "Z5NlsOgoX-Ut"
      },
      "execution_count": null,
      "outputs": []
    },
    {
      "cell_type": "code",
      "source": [
        ""
      ],
      "metadata": {
        "id": "c1fIwDz2X-PN"
      },
      "execution_count": null,
      "outputs": []
    },
    {
      "cell_type": "code",
      "source": [
        ""
      ],
      "metadata": {
        "id": "V5iZTvIKX-JA"
      },
      "execution_count": null,
      "outputs": []
    },
    {
      "cell_type": "code",
      "source": [
        "data.loc[: , 'diagnosis']"
      ],
      "metadata": {
        "id": "kG--tQmMShuX"
      },
      "execution_count": null,
      "outputs": []
    },
    {
      "cell_type": "code",
      "source": [
        "data.iloc[ : , 1 ]"
      ],
      "metadata": {
        "id": "-a3bhkHLSmDZ"
      },
      "execution_count": null,
      "outputs": []
    },
    {
      "cell_type": "code",
      "source": [
        "meandata = data.iloc[ :, :12]"
      ],
      "metadata": {
        "id": "NwtaQ_kbSrRU"
      },
      "execution_count": null,
      "outputs": []
    },
    {
      "cell_type": "code",
      "source": [
        "meandata.head()"
      ],
      "metadata": {
        "id": "aydLKHITTEse"
      },
      "execution_count": null,
      "outputs": []
    },
    {
      "cell_type": "code",
      "source": [
        "datawithoutlabel = data.loc[:, ['id', 'radius_mean', 'texture_mean', 'perimeter_mean',\n",
        "       'area_mean', 'smoothness_mean', 'compactness_mean', 'concavity_mean',\n",
        "       'concave points_mean', 'symmetry_mean', 'fractal_dimension_mean'] ]\n",
        "datawithoutlabel.head()"
      ],
      "metadata": {
        "id": "lSY5T_zrTGKO"
      },
      "execution_count": null,
      "outputs": []
    },
    {
      "cell_type": "code",
      "source": [
        "data.to_csv('nice.csv')"
      ],
      "metadata": {
        "id": "1frxX4RjTd0S"
      },
      "execution_count": null,
      "outputs": []
    },
    {
      "cell_type": "code",
      "source": [
        "data = pd.read_csv('data.csv')"
      ],
      "metadata": {
        "id": "HMHuKZBTT_b1"
      },
      "execution_count": null,
      "outputs": []
    },
    {
      "cell_type": "code",
      "source": [
        "corr = data.corr()"
      ],
      "metadata": {
        "id": "rB75wd5cUYHo"
      },
      "execution_count": null,
      "outputs": []
    },
    {
      "cell_type": "code",
      "source": [
        "corr"
      ],
      "metadata": {
        "id": "Daq7ur60VB3L"
      },
      "execution_count": null,
      "outputs": []
    },
    {
      "cell_type": "code",
      "source": [
        "stats = meandata.describe().T\n",
        "stats"
      ],
      "metadata": {
        "id": "wH6bN3HFVC0E"
      },
      "execution_count": null,
      "outputs": []
    },
    {
      "cell_type": "code",
      "source": [
        "datamean = stats['mean']\n",
        "datastd = stats['std']"
      ],
      "metadata": {
        "id": "JVBd-OjOVOvI"
      },
      "execution_count": null,
      "outputs": []
    },
    {
      "cell_type": "code",
      "source": [
        "#z-score: (x-mean)/std\n",
        "norm_data = (meandata - datamean)/datastd"
      ],
      "metadata": {
        "id": "ulmJnWPdVYIf"
      },
      "execution_count": null,
      "outputs": []
    },
    {
      "cell_type": "code",
      "source": [
        "norm_data"
      ],
      "metadata": {
        "id": "09Mct2MLWJYL"
      },
      "execution_count": null,
      "outputs": []
    },
    {
      "cell_type": "code",
      "source": [
        "norm_data[norm_data > 3]"
      ],
      "metadata": {
        "id": "gTgbxmmGWKwM"
      },
      "execution_count": null,
      "outputs": []
    },
    {
      "cell_type": "code",
      "source": [
        ""
      ],
      "metadata": {
        "id": "6nhPE2D-XQaj"
      },
      "execution_count": null,
      "outputs": []
    }
  ]
}