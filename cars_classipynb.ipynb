{
  "nbformat": 4,
  "nbformat_minor": 0,
  "metadata": {
    "colab": {
      "name": "cars_classipynb",
      "provenance": [],
      "authorship_tag": "ABX9TyPU9/+w0yK0Bn6roa25rXuH",
      "include_colab_link": true
    },
    "kernelspec": {
      "name": "python3",
      "display_name": "Python 3"
    },
    "language_info": {
      "name": "python"
    }
  },
  "cells": [
    {
      "cell_type": "markdown",
      "metadata": {
        "id": "view-in-github",
        "colab_type": "text"
      },
      "source": [
        "<a href=\"https://colab.research.google.com/github/JamesPSlater/BigData/blob/main/cars_classipynb.ipynb\" target=\"_parent\"><img src=\"https://colab.research.google.com/assets/colab-badge.svg\" alt=\"Open In Colab\"/></a>"
      ]
    },
    {
      "cell_type": "code",
      "execution_count": null,
      "metadata": {
        "id": "hdEDgtrMdIyu"
      },
      "outputs": [],
      "source": [
        "class Cars:\n",
        "  def __init__(self, speed, weight, sound = 'Honk', colour = 'Black'):\n",
        "      self.speed = speed\n",
        "      self.weight = weight\n",
        "      self.sound = sound\n",
        "      self.colour = colour\n",
        "  \n",
        "  def makeSound(self):\n",
        "    print(self.sound)\n",
        "\n",
        "  def turnLeft(self):\n",
        "    self.turnLeft = 'Car is turning left'\n",
        "    print(self.turnLeft)\n",
        "\n",
        "  def turnRight(self):\n",
        "    self.turnRight = 'Car is turning right'\n",
        "    print(self.turnRight)\n",
        "\n",
        "car1 = Cars(150, 1600)\n",
        "print(car1.sound)\n"
      ]
    }
  ]
}